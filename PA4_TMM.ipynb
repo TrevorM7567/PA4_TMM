{
 "cells": [
  {
   "cell_type": "markdown",
   "id": "e135a0df",
   "metadata": {},
   "source": [
    "## Lists"
   ]
  },
  {
   "cell_type": "code",
   "execution_count": 1,
   "id": "69f25fe7",
   "metadata": {},
   "outputs": [
    {
     "data": {
      "text/plain": [
       "[12, 24, 3, 4, 31, 30, 4, 42, 39, 39]"
      ]
     },
     "execution_count": 1,
     "metadata": {},
     "output_type": "execute_result"
    }
   ],
   "source": [
    "import random\n",
    "numbers=[random.randrange(50) for i in range(10)]\n",
    "numbers"
   ]
  },
  {
   "cell_type": "markdown",
   "id": "d7be0a12",
   "metadata": {},
   "source": [
    "Append(): Lets you append a single element to the end of a list"
   ]
  },
  {
   "cell_type": "code",
   "execution_count": 2,
   "id": "5c931b93",
   "metadata": {},
   "outputs": [
    {
     "data": {
      "text/plain": [
       "[12, 24, 3, 4, 31, 30, 4, 42, 39, 39, 50]"
      ]
     },
     "execution_count": 2,
     "metadata": {},
     "output_type": "execute_result"
    }
   ],
   "source": [
    "numbers.append(50)\n",
    "numbers"
   ]
  },
  {
   "cell_type": "markdown",
   "id": "9f19d9aa",
   "metadata": {},
   "source": [
    "Extend(): Lets you append multiple elements to the end of a list"
   ]
  },
  {
   "cell_type": "code",
   "execution_count": 4,
   "id": "e9c740a7",
   "metadata": {},
   "outputs": [
    {
     "data": {
      "text/plain": [
       "[12, 24, 3, 4, 31, 30, 4, 42, 39, 39, 50, 51, 52]"
      ]
     },
     "execution_count": 4,
     "metadata": {},
     "output_type": "execute_result"
    }
   ],
   "source": [
    "numbers.extend([51,52])\n",
    "numbers"
   ]
  },
  {
   "cell_type": "markdown",
   "id": "1c7089f2",
   "metadata": {},
   "source": [
    "Insert(): Lets you insert an element in a certain location"
   ]
  },
  {
   "cell_type": "code",
   "execution_count": 6,
   "id": "0194729c",
   "metadata": {},
   "outputs": [
    {
     "data": {
      "text/plain": [
       "[1, 1, 12, 24, 3, 4, 31, 30, 4, 42, 39, 39, 50, 51, 52]"
      ]
     },
     "execution_count": 6,
     "metadata": {},
     "output_type": "execute_result"
    }
   ],
   "source": [
    "numbers.insert(0,1)\n",
    "numbers"
   ]
  },
  {
   "cell_type": "markdown",
   "id": "27972b89",
   "metadata": {},
   "source": [
    "Remove(): Removes an element from a list"
   ]
  },
  {
   "cell_type": "code",
   "execution_count": 7,
   "id": "693c6e02",
   "metadata": {},
   "outputs": [
    {
     "data": {
      "text/plain": [
       "[1, 1, 12, 24, 4, 31, 30, 4, 42, 39, 39, 50, 51, 52]"
      ]
     },
     "execution_count": 7,
     "metadata": {},
     "output_type": "execute_result"
    }
   ],
   "source": [
    "numbers.remove(3)\n",
    "numbers"
   ]
  },
  {
   "cell_type": "markdown",
   "id": "0d9776a3",
   "metadata": {},
   "source": [
    "Count(): Tells you how many times an element appears in a list"
   ]
  },
  {
   "cell_type": "code",
   "execution_count": 8,
   "id": "d4065402",
   "metadata": {},
   "outputs": [
    {
     "data": {
      "text/plain": [
       "2"
      ]
     },
     "execution_count": 8,
     "metadata": {},
     "output_type": "execute_result"
    }
   ],
   "source": [
    "numbers.count(39)"
   ]
  },
  {
   "cell_type": "markdown",
   "id": "98ff42b3",
   "metadata": {},
   "source": [
    "Index(): Returns the index of an element in a list if it exists"
   ]
  },
  {
   "cell_type": "code",
   "execution_count": 9,
   "id": "d9adfb6f",
   "metadata": {},
   "outputs": [
    {
     "data": {
      "text/plain": [
       "12"
      ]
     },
     "execution_count": 9,
     "metadata": {},
     "output_type": "execute_result"
    }
   ],
   "source": [
    "numbers.index(51)"
   ]
  },
  {
   "cell_type": "markdown",
   "id": "879e2f47",
   "metadata": {},
   "source": [
    "Pop(): Removes and returns the last item in a list"
   ]
  },
  {
   "cell_type": "code",
   "execution_count": 12,
   "id": "06a4b8df",
   "metadata": {},
   "outputs": [
    {
     "data": {
      "text/plain": [
       "[1, 12, 24, 4, 31, 30, 4, 42, 39, 39, 50, 51, 52]"
      ]
     },
     "execution_count": 12,
     "metadata": {},
     "output_type": "execute_result"
    }
   ],
   "source": [
    "numbers.pop(1)\n",
    "numbers"
   ]
  },
  {
   "cell_type": "markdown",
   "id": "9e1119fb",
   "metadata": {},
   "source": [
    "Sorted(): Sorts the numbers in a list"
   ]
  },
  {
   "cell_type": "code",
   "execution_count": 13,
   "id": "2b5acb6c",
   "metadata": {},
   "outputs": [
    {
     "data": {
      "text/plain": [
       "[1, 4, 4, 12, 24, 30, 31, 39, 39, 42, 50, 51, 52]"
      ]
     },
     "execution_count": 13,
     "metadata": {},
     "output_type": "execute_result"
    }
   ],
   "source": [
    "x=sorted(numbers)\n",
    "x"
   ]
  },
  {
   "cell_type": "markdown",
   "id": "a24ed5de",
   "metadata": {},
   "source": [
    "Copy(): Returns a copy of an existing list"
   ]
  },
  {
   "cell_type": "code",
   "execution_count": 14,
   "id": "01c0592f",
   "metadata": {},
   "outputs": [
    {
     "data": {
      "text/plain": [
       "[1, 12, 24, 4, 31, 30, 4, 42, 39, 39, 50, 51, 52]"
      ]
     },
     "execution_count": 14,
     "metadata": {},
     "output_type": "execute_result"
    }
   ],
   "source": [
    "n2=numbers.copy()\n",
    "n2"
   ]
  },
  {
   "cell_type": "markdown",
   "id": "43bf8fae",
   "metadata": {},
   "source": [
    "Clear(): Removes all of the elements from a list"
   ]
  },
  {
   "cell_type": "code",
   "execution_count": 15,
   "id": "5ccd7935",
   "metadata": {},
   "outputs": [
    {
     "data": {
      "text/plain": [
       "[]"
      ]
     },
     "execution_count": 15,
     "metadata": {},
     "output_type": "execute_result"
    }
   ],
   "source": [
    "n2.clear()\n",
    "n2"
   ]
  },
  {
   "cell_type": "markdown",
   "id": "099525b0",
   "metadata": {},
   "source": [
    "Any(): Returns true if any element in the list is true"
   ]
  },
  {
   "cell_type": "code",
   "execution_count": 18,
   "id": "15ece529",
   "metadata": {},
   "outputs": [
    {
     "data": {
      "text/plain": [
       "True"
      ]
     },
     "execution_count": 18,
     "metadata": {},
     "output_type": "execute_result"
    }
   ],
   "source": [
    "any(numbers)"
   ]
  },
  {
   "cell_type": "markdown",
   "id": "30a68471",
   "metadata": {},
   "source": [
    "Filter(): Creates a list of elements for which a function returns true"
   ]
  },
  {
   "cell_type": "code",
   "execution_count": 25,
   "id": "b40053d4",
   "metadata": {},
   "outputs": [
    {
     "data": {
      "text/plain": [
       "[1, 4, 3]"
      ]
     },
     "execution_count": 25,
     "metadata": {},
     "output_type": "execute_result"
    }
   ],
   "source": [
    "import random\n",
    "def less_five(x):\n",
    "    if x<5:\n",
    "        return x\n",
    "numbers=[random.randrange(20) for i in range(10)]\n",
    "list(filter(less_five,numbers))"
   ]
  },
  {
   "cell_type": "markdown",
   "id": "3f0d056f",
   "metadata": {},
   "source": [
    "List(): Elements can be changed, unlike tuples"
   ]
  },
  {
   "cell_type": "code",
   "execution_count": 24,
   "id": "817486ca",
   "metadata": {},
   "outputs": [
    {
     "data": {
      "text/plain": [
       "[1, 12, 24, 4, 31, 30, 4, 42, 39, 39, 50, 51, 52]"
      ]
     },
     "execution_count": 24,
     "metadata": {},
     "output_type": "execute_result"
    }
   ],
   "source": [
    "numbers"
   ]
  },
  {
   "cell_type": "markdown",
   "id": "51db35fa",
   "metadata": {},
   "source": [
    "Map(): Applies a function to all the items in an input"
   ]
  },
  {
   "cell_type": "code",
   "execution_count": 26,
   "id": "f22fbe38",
   "metadata": {},
   "outputs": [
    {
     "data": {
      "text/plain": [
       "[0, None, 1, 4, None, 0, 3, None, None, None]"
      ]
     },
     "execution_count": 26,
     "metadata": {},
     "output_type": "execute_result"
    }
   ],
   "source": [
    "list(filter(less_five,numbers))\n",
    "list(map(less_five,numbers))"
   ]
  },
  {
   "cell_type": "markdown",
   "id": "3c380c50",
   "metadata": {},
   "source": [
    "## Tuples"
   ]
  },
  {
   "cell_type": "code",
   "execution_count": 28,
   "id": "76579f8f",
   "metadata": {},
   "outputs": [
    {
     "data": {
      "text/plain": [
       "(10, 15, 20)"
      ]
     },
     "execution_count": 28,
     "metadata": {},
     "output_type": "execute_result"
    }
   ],
   "source": [
    "tuple1=(10,15,20)\n",
    "tuple1"
   ]
  },
  {
   "cell_type": "markdown",
   "id": "7df518ca",
   "metadata": {},
   "source": [
    "cmp(): Compares integers"
   ]
  },
  {
   "cell_type": "code",
   "execution_count": null,
   "id": "09b85e09",
   "metadata": {},
   "outputs": [],
   "source": [
    "a = 1 \n",
    "b = 2 \n",
    "print(cmp(a, b))"
   ]
  },
  {
   "cell_type": "markdown",
   "id": "e0a04989",
   "metadata": {},
   "source": [
    "len(): Returns the length of a list, tuple, string, dictionary, etc"
   ]
  },
  {
   "cell_type": "code",
   "execution_count": 35,
   "id": "a0dba3e9",
   "metadata": {},
   "outputs": [
    {
     "data": {
      "text/plain": [
       "3"
      ]
     },
     "execution_count": 35,
     "metadata": {},
     "output_type": "execute_result"
    }
   ],
   "source": [
    "len(tuple1)"
   ]
  },
  {
   "cell_type": "markdown",
   "id": "7b937309",
   "metadata": {},
   "source": [
    "max(): Returns the largest item in an iterable"
   ]
  },
  {
   "cell_type": "code",
   "execution_count": 36,
   "id": "f129e7dd",
   "metadata": {},
   "outputs": [
    {
     "data": {
      "text/plain": [
       "20"
      ]
     },
     "execution_count": 36,
     "metadata": {},
     "output_type": "execute_result"
    }
   ],
   "source": [
    "max(tuple1)"
   ]
  },
  {
   "cell_type": "markdown",
   "id": "c19fd898",
   "metadata": {},
   "source": [
    "tuple(seq): Converts lists into tuples"
   ]
  },
  {
   "cell_type": "code",
   "execution_count": 38,
   "id": "c93b47ec",
   "metadata": {},
   "outputs": [
    {
     "data": {
      "text/plain": [
       "(0, 11, 1, 4, 7, 0, 3, 6, 9, 13)"
      ]
     },
     "execution_count": 38,
     "metadata": {},
     "output_type": "execute_result"
    }
   ],
   "source": [
    "tuple(numbers)"
   ]
  },
  {
   "cell_type": "markdown",
   "id": "96852485",
   "metadata": {},
   "source": [
    "## PA4_TMM\n",
    "### Trevor McCormick\n",
    "#### Fall 2021"
   ]
  }
 ],
 "metadata": {
  "kernelspec": {
   "display_name": "Python 3",
   "language": "python",
   "name": "python3"
  },
  "language_info": {
   "codemirror_mode": {
    "name": "ipython",
    "version": 3
   },
   "file_extension": ".py",
   "mimetype": "text/x-python",
   "name": "python",
   "nbconvert_exporter": "python",
   "pygments_lexer": "ipython3",
   "version": "3.8.8"
  }
 },
 "nbformat": 4,
 "nbformat_minor": 5
}
